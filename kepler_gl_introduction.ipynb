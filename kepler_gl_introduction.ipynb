{
 "cells": [
  {
   "cell_type": "markdown",
   "metadata": {},
   "source": [
    "# kepler.gl for Jupyter\n",
    "## Kepler.glとは？\n",
    "- 地理空間可視化ツール\n",
    "- Uberがサポート\n",
    "- Jupyter notebookでもサポートされているよ\n",
    "- kepler.gl widget supports CSV and GeoJSON,Pandas DataFrame and GeoPandas GeoDataFrame\n",
    "\n",
    "### Jupyterとkepler.gl\n",
    "- `pip install keplergl`\n",
    "- Jupyter Widget\n",
    "- kepler.glをjupyterのcellにロードして使用\n",
    "\n",
    "### Example"
   ]
  },
  {
   "cell_type": "code",
   "execution_count": 1,
   "metadata": {},
   "outputs": [],
   "source": [
    "#!pip3 install keplergl"
   ]
  },
  {
   "cell_type": "code",
   "execution_count": 2,
   "metadata": {},
   "outputs": [
    {
     "name": "stdout",
     "output_type": "stream",
     "text": [
      "User Guide: https://github.com/keplergl/kepler.gl/blob/master/docs/keplergl-jupyter/user-guide.md\n"
     ]
    },
    {
     "data": {
      "application/vnd.jupyter.widget-view+json": {
       "model_id": "2c0fc155e4b4468696c88dbc60673068",
       "version_major": 2,
       "version_minor": 0
      },
      "text/plain": [
       "KeplerGl(height=500)"
      ]
     },
     "metadata": {},
     "output_type": "display_data"
    }
   ],
   "source": [
    "# Load an empty map\n",
    "from keplergl import KeplerGl\n",
    "map_1 = KeplerGl(height=500)\n",
    "map_1"
   ]
  },
  {
   "cell_type": "markdown",
   "metadata": {},
   "source": [
    "### Jupyter Labでerrorが出た原因\n",
    "- https://github.com/keplergl/kepler.gl/issues/583\n",
    "- https://stackoverflow.com/questions/49542417/how-to-get-ipywidgets-working-in-jupyter-lab\n",
    "- Jupyter Labでは動かない\n",
    "\n",
    "### 対策\n",
    "- Jupyter notebookに変える\n"
   ]
  },
  {
   "cell_type": "markdown",
   "metadata": {},
   "source": [
    "- `add_data` methodを呼び出してデータを追加する"
   ]
  },
  {
   "cell_type": "code",
   "execution_count": 4,
   "metadata": {},
   "outputs": [],
   "source": [
    "import pandas as pd"
   ]
  },
  {
   "cell_type": "code",
   "execution_count": 13,
   "metadata": {},
   "outputs": [
    {
     "data": {
      "text/html": [
       "<div>\n",
       "<style scoped>\n",
       "    .dataframe tbody tr th:only-of-type {\n",
       "        vertical-align: middle;\n",
       "    }\n",
       "\n",
       "    .dataframe tbody tr th {\n",
       "        vertical-align: top;\n",
       "    }\n",
       "\n",
       "    .dataframe thead th {\n",
       "        text-align: right;\n",
       "    }\n",
       "</style>\n",
       "<table border=\"1\" class=\"dataframe\">\n",
       "  <thead>\n",
       "    <tr style=\"text-align: right;\">\n",
       "      <th></th>\n",
       "      <th>province</th>\n",
       "      <th>city</th>\n",
       "      <th>county</th>\n",
       "      <th>longitude</th>\n",
       "      <th>latitude</th>\n",
       "      <th>zipCode</th>\n",
       "    </tr>\n",
       "  </thead>\n",
       "  <tbody>\n",
       "    <tr>\n",
       "      <th>0</th>\n",
       "      <td>北京市</td>\n",
       "      <td>北京市</td>\n",
       "      <td>北京市</td>\n",
       "      <td>116.40</td>\n",
       "      <td>39.90</td>\n",
       "      <td>100000</td>\n",
       "    </tr>\n",
       "    <tr>\n",
       "      <th>1</th>\n",
       "      <td>北京市</td>\n",
       "      <td>北京市</td>\n",
       "      <td>东城区</td>\n",
       "      <td>116.42</td>\n",
       "      <td>39.93</td>\n",
       "      <td>100010</td>\n",
       "    </tr>\n",
       "    <tr>\n",
       "      <th>2</th>\n",
       "      <td>北京市</td>\n",
       "      <td>北京市</td>\n",
       "      <td>西城区</td>\n",
       "      <td>116.37</td>\n",
       "      <td>39.92</td>\n",
       "      <td>100032</td>\n",
       "    </tr>\n",
       "    <tr>\n",
       "      <th>3</th>\n",
       "      <td>北京市</td>\n",
       "      <td>北京市</td>\n",
       "      <td>崇文区</td>\n",
       "      <td>116.43</td>\n",
       "      <td>39.88</td>\n",
       "      <td>100000</td>\n",
       "    </tr>\n",
       "    <tr>\n",
       "      <th>4</th>\n",
       "      <td>北京市</td>\n",
       "      <td>北京市</td>\n",
       "      <td>宣武区</td>\n",
       "      <td>116.35</td>\n",
       "      <td>39.87</td>\n",
       "      <td>100000</td>\n",
       "    </tr>\n",
       "  </tbody>\n",
       "</table>\n",
       "</div>"
      ],
      "text/plain": [
       "  province city county  longitude  latitude zipCode\n",
       "0      北京市  北京市    北京市     116.40     39.90  100000\n",
       "1      北京市  北京市    东城区     116.42     39.93  100010\n",
       "2      北京市  北京市    西城区     116.37     39.92  100032\n",
       "3      北京市  北京市    崇文区     116.43     39.88  100000\n",
       "4      北京市  北京市    宣武区     116.35     39.87  100000"
      ]
     },
     "execution_count": 13,
     "metadata": {},
     "output_type": "execute_result"
    }
   ],
   "source": [
    "url = \"https://raw.githubusercontent.com/sfyc23/China-zip-code-latitude-and-longitude/master/china_region/region.csv\"\n",
    "df = pd.read_csv(url)\n",
    "df.head()"
   ]
  },
  {
   "cell_type": "code",
   "execution_count": 17,
   "metadata": {},
   "outputs": [
    {
     "name": "stdout",
     "output_type": "stream",
     "text": [
      "User Guide: https://github.com/keplergl/kepler.gl/blob/master/docs/keplergl-jupyter/user-guide.md\n"
     ]
    }
   ],
   "source": [
    "map_1 = KeplerGl(height=800)\n",
    "map_1.add_data(data=df, name='zipCode')"
   ]
  },
  {
   "cell_type": "code",
   "execution_count": 18,
   "metadata": {},
   "outputs": [
    {
     "data": {
      "application/vnd.jupyter.widget-view+json": {
       "model_id": "5ef83c7aa18d44ea9b4bfbc4b589f794",
       "version_major": 2,
       "version_minor": 0
      },
      "text/plain": [
       "KeplerGl(data={'zipCode': {'index': [0, 1, 2, 3, 4, 5, 6, 7, 8, 9, 10, 11, 12, 13, 14, 15, 16, 17, 18, 19, 20,…"
      ]
     },
     "metadata": {},
     "output_type": "display_data"
    }
   ],
   "source": [
    "map_1"
   ]
  },
  {
   "cell_type": "markdown",
   "metadata": {},
   "source": [
    "## Filterを加える"
   ]
  },
  {
   "cell_type": "code",
   "execution_count": 19,
   "metadata": {},
   "outputs": [
    {
     "name": "stdout",
     "output_type": "stream",
     "text": [
      "User Guide: https://github.com/keplergl/kepler.gl/blob/master/docs/keplergl-jupyter/user-guide.md\n"
     ]
    }
   ],
   "source": [
    "map_2 = KeplerGl(height=800)\n",
    "map_2.add_data(data=df, name='zipCode')"
   ]
  },
  {
   "cell_type": "code",
   "execution_count": 21,
   "metadata": {},
   "outputs": [
    {
     "data": {
      "application/vnd.jupyter.widget-view+json": {
       "model_id": "358c53f9985a44d7b12502f4b835b796",
       "version_major": 2,
       "version_minor": 0
      },
      "text/plain": [
       "KeplerGl(data={'zipCode': {'index': [0, 1, 2, 3, 4, 5, 6, 7, 8, 9, 10, 11, 12, 13, 14, 15, 16, 17, 18, 19, 20,…"
      ]
     },
     "metadata": {},
     "output_type": "display_data"
    }
   ],
   "source": [
    "map_2"
   ]
  }
 ],
 "metadata": {
  "kernelspec": {
   "display_name": "Python 3",
   "language": "python",
   "name": "python3"
  },
  "language_info": {
   "codemirror_mode": {
    "name": "ipython",
    "version": 3
   },
   "file_extension": ".py",
   "mimetype": "text/x-python",
   "name": "python",
   "nbconvert_exporter": "python",
   "pygments_lexer": "ipython3",
   "version": "3.7.3"
  }
 },
 "nbformat": 4,
 "nbformat_minor": 2
}
